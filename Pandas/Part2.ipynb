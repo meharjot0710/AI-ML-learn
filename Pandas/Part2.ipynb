{
 "cells": [
  {
   "cell_type": "code",
   "execution_count": 8,
   "metadata": {},
   "outputs": [],
   "source": [
    "import pandas as pd"
   ]
  },
  {
   "cell_type": "code",
   "execution_count": 9,
   "metadata": {},
   "outputs": [
    {
     "name": "stdout",
     "output_type": "stream",
     "text": [
      "Empty DataFrame\n",
      "Columns: []\n",
      "Index: []\n"
     ]
    }
   ],
   "source": [
    "df=pd.DataFrame()\n",
    "print(df)"
   ]
  },
  {
   "cell_type": "code",
   "execution_count": 10,
   "metadata": {},
   "outputs": [
    {
     "name": "stdout",
     "output_type": "stream",
     "text": [
      "   0\n",
      "0  1\n",
      "1  2\n",
      "2  3\n",
      "3  4\n",
      "4  5\n"
     ]
    }
   ],
   "source": [
    "lst=[1,2,3,4,5]\n",
    "df=pd.DataFrame(lst)\n",
    "print(df)"
   ]
  },
  {
   "cell_type": "code",
   "execution_count": 11,
   "metadata": {},
   "outputs": [
    {
     "name": "stdout",
     "output_type": "stream",
     "text": [
      "   0  1  2  3   4\n",
      "0  1  2  3  4   5\n",
      "1  6  7  8  9  10\n"
     ]
    }
   ],
   "source": [
    "lst=[[1,2,3,4,5],[6,7,8,9,10]]\n",
    "df=pd.DataFrame(lst)\n",
    "print(df)"
   ]
  },
  {
   "cell_type": "code",
   "execution_count": 12,
   "metadata": {},
   "outputs": [
    {
     "name": "stdout",
     "output_type": "stream",
     "text": [
      "   a  b  c  d\n",
      "0  4  5  7  1\n",
      "1  5  9  3  9\n"
     ]
    }
   ],
   "source": [
    "a=[{'a':4,'b':5,'c':7,'d':1},{'a':5,'b':9,'c':3,'d':9}]\n",
    "df=pd.DataFrame(a)\n",
    "print(df)"
   ]
  },
  {
   "cell_type": "code",
   "execution_count": 14,
   "metadata": {},
   "outputs": [
    {
     "name": "stdout",
     "output_type": "stream",
     "text": [
      "   Roll No  Maths  Physics\n",
      "0        1     32       98\n",
      "1        2     53       32\n",
      "2        3     65       64\n",
      "3        4     75       76\n"
     ]
    }
   ],
   "source": [
    "b={\n",
    "    'Roll No':pd.Series([1,2,3,4]),\n",
    "    'Maths':pd.Series([32,53,65,75]),\n",
    "    'Physics':pd.Series([98,32,64,76])\n",
    "}\n",
    "df=pd.DataFrame(b)\n",
    "print(df)"
   ]
  },
  {
   "cell_type": "code",
   "execution_count": 15,
   "metadata": {},
   "outputs": [
    {
     "name": "stdout",
     "output_type": "stream",
     "text": [
      "     Student ID  Operating System  DSA  Frontend  Backend  Machine Learning  \\\n",
      "0             1                88   78        68       70                86   \n",
      "1             2                65   68        78       92                84   \n",
      "2             3                73   69        82       74                67   \n",
      "3             4                85   95        58       52                89   \n",
      "4             5                64   55        70       50                84   \n",
      "..          ...               ...  ...       ...      ...               ...   \n",
      "995         996                98   89        75       51                70   \n",
      "996         997                82   77        72       90                76   \n",
      "997         998                53   55        63       95                55   \n",
      "998         999                65   83        56       84                81   \n",
      "999        1000                52   56        64      100                60   \n",
      "\n",
      "     Data Analytics  Attendance (Operating System)  Attendance (DSA)  \\\n",
      "0                86                             75                97   \n",
      "1                64                             71                83   \n",
      "2                76                             96                91   \n",
      "3                51                             79                91   \n",
      "4                58                             74                87   \n",
      "..              ...                            ...               ...   \n",
      "995              82                             71                76   \n",
      "996              94                             82                72   \n",
      "997              98                             88                80   \n",
      "998              75                             74                95   \n",
      "999              72                             77                99   \n",
      "\n",
      "     Attendance (Frontend)  Attendance (Backend)  \\\n",
      "0                       86                    74   \n",
      "1                       97                    96   \n",
      "2                       99                    84   \n",
      "3                       70                    96   \n",
      "4                       86                    81   \n",
      "..                     ...                   ...   \n",
      "995                     81                    96   \n",
      "996                     91                    90   \n",
      "997                     89                    77   \n",
      "998                     72                    98   \n",
      "999                     72                    98   \n",
      "\n",
      "     Attendance (Machine Learning)  Attendance (Data Analytics)  \\\n",
      "0                               76                           83   \n",
      "1                               96                           97   \n",
      "2                               70                           85   \n",
      "3                               76                           86   \n",
      "4                               94                           91   \n",
      "..                             ...                          ...   \n",
      "995                             75                           88   \n",
      "996                             72                           75   \n",
      "997                             71                           72   \n",
      "998                             80                           80   \n",
      "999                             83                           79   \n",
      "\n",
      "            Project 1         Project 2         Project 3         Project 4  \n",
      "0    Game Development   Web Development  Game Development      Data Science  \n",
      "1            Robotics   Web Development                AI  Game Development  \n",
      "2        Data Science   Web Development      Data Science   Web Development  \n",
      "3    Game Development      Data Science   Web Development  Game Development  \n",
      "4                  AI     Cybersecurity     Cybersecurity   Web Development  \n",
      "..                ...               ...               ...               ...  \n",
      "995  Machine Learning  Game Development          Robotics                AI  \n",
      "996  Game Development  Machine Learning                AI                AI  \n",
      "997     Cybersecurity  Machine Learning  Game Development   Web Development  \n",
      "998          Robotics   Web Development     Cybersecurity     Cybersecurity  \n",
      "999     Cybersecurity   Web Development  Machine Learning     Cybersecurity  \n",
      "\n",
      "[1000 rows x 17 columns]\n"
     ]
    }
   ],
   "source": [
    "df=pd.read_csv('student_data.csv')\n",
    "print(df)"
   ]
  },
  {
   "cell_type": "code",
   "execution_count": 16,
   "metadata": {},
   "outputs": [
    {
     "data": {
      "text/plain": [
       "pandas.core.frame.DataFrame"
      ]
     },
     "execution_count": 16,
     "metadata": {},
     "output_type": "execute_result"
    }
   ],
   "source": [
    "type(df)"
   ]
  }
 ],
 "metadata": {
  "kernelspec": {
   "display_name": "Python 3",
   "language": "python",
   "name": "python3"
  },
  "language_info": {
   "codemirror_mode": {
    "name": "ipython",
    "version": 3
   },
   "file_extension": ".py",
   "mimetype": "text/x-python",
   "name": "python",
   "nbconvert_exporter": "python",
   "pygments_lexer": "ipython3",
   "version": "3.10.0"
  }
 },
 "nbformat": 4,
 "nbformat_minor": 2
}
